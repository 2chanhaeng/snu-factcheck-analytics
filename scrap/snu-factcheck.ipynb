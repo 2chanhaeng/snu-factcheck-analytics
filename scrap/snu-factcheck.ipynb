{
 "cells": [
  {
   "cell_type": "code",
   "execution_count": 10,
   "metadata": {},
   "outputs": [],
   "source": [
    "import requests\n",
    "from bs4 import BeautifulSoup as bs\n",
    "import yaml\n",
    "from IPython.display import display\n",
    "from time import sleep\n",
    "import re\n",
    "from tqdm import tqdm\n",
    "import pandas as pd\n",
    "\n",
    "from typing import List, Dict, Any, Set, Tuple, Union, Optional\n"
   ]
  },
  {
   "cell_type": "code",
   "execution_count": 1,
   "metadata": {},
   "outputs": [
    {
     "name": "stdout",
     "output_type": "stream",
     "text": [
      "c:\\Users\\이찬행\\OneDrive - 충남대학교\\문서\\GitHub\\snu-factcheck-analytics\n"
     ]
    },
    {
     "data": {
      "text/plain": [
       "3292"
      ]
     },
     "execution_count": 1,
     "metadata": {},
     "output_type": "execute_result"
    }
   ],
   "source": [
    "import os\n",
    "os.chdir(\"..\")\n",
    "print(os.getcwd())\n",
    "\n",
    "from classes import *\n",
    "len(speakings)\n"
   ]
  },
  {
   "cell_type": "code",
   "execution_count": 32,
   "metadata": {},
   "outputs": [
    {
     "name": "stderr",
     "output_type": "stream",
     "text": [
      "100%|██████████| 3292/3292 [00:00<00:00, 411003.09it/s]"
     ]
    },
    {
     "name": "stdout",
     "output_type": "stream",
     "text": [
      "3549\n"
     ]
    },
    {
     "name": "stderr",
     "output_type": "stream",
     "text": [
      "\n"
     ]
    }
   ],
   "source": [
    "fc_dicts = {}\n",
    "for key, value in tqdm(speaks_dict.items()):\n",
    "    sp_info = value.copy()\n",
    "    factchecks = sp_info.pop('factchecks')\n",
    "    for id, fc in factchecks.items():\n",
    "        fc_info = fc.copy()\n",
    "        fc_info.update(sp_info)\n",
    "        fc_dicts[id] = fc_info\n",
    "print(len(fc_dicts))\n"
   ]
  },
  {
   "cell_type": "code",
   "execution_count": 33,
   "metadata": {},
   "outputs": [
    {
     "data": {
      "text/plain": [
       "{'content': \"검증내용 <앵커>대선 국면에 접어들면서 저희 사실은 코너에선 선거 관련 가짜 뉴스와 대선 후보 관련 논란을 집중 검증하고 있습니다. 마침 저희 사실은 홈페이지에 지지율 1위 문재인 민주당 후보의 아들 취업 특혜 논란을 따져봐 달라는 요청이 들어와서, 오늘(25일)은 그 문제를 한번 집중적으로 따져 보겠습니다.박세용 기자, 먼저 논란의 핵심부터 정리해주시죠.<기자>문재인 후보 아들이 노무현 정부 시절인 2007년 1월에 한국고용정보원이라는 공기업에 합격합니다.당시 고용정보원의 원장이 청와대에서 문재인 후보와 같이 근무했던 사람이거든요.그래서 아버지 덕에 취업한 거 아니냐는 의혹이\\xa0나오는 겁니다.<앵커>이런 의혹이 자꾸 나오니까 선관위는 최근 이런 의혹들은 모두 허위라고 하면서 관련 게시물을 단속하고 있잖아요?<기자>선관위가 지금 단속하는 건 악의적인 가짜 뉴스입니다.문 후보 아들 1명만 지원해서 혼자 합격했다, 또 5급 공무원 자리다, 이런 글들이\\xa0돌고 있는데\\xa0사실이 아니라 거짓이라는 겁니다.실제로는 2명 지원해서 2명 합격했고, 공무원이 아니라 공기업 일반직입니다.<앵커>이런 의혹에 대해서 문재인 후보 측은 2007년과 2010년 이미 두 번 다 감사를 받았고, 거기서 문제없는 걸로 나왔다고 해명하고 있는 거죠?<기자>취재를 해보니까 그 부분은 절반만 사실이었습니다.2007년에 고용정보원이 노동부에서 감사를 받은 건 사실입니다.당시 감사 결과를 보시면 문 후보 아들이\\xa0경쟁 없이 채용된 건 사실이지만, 특혜를 받았다는\\xa0확증은 발견되지 않았다는 겁니다.<앵커>2007년은 이랬고, 2010년 감사 내용은 어떤가요?<기자>2010년 이명박 정부 때도 감사를 받았다, 만약에 특혜가 사실이었다면 이명박 정부가 이 사안을 가만히 뒀겠느냐는 얘긴데, 사실 당시 2010년 감사는 성격이\\xa0완전히 다릅니다.당시 감사는 야당이었던 민주당 의원들이 요구한 겁니다.이명박 정부가 임명한 고용정보원장이 채용 특혜에 연루됐다며 감사를 요구한 것이었습니다.이게 국회 속기록에 나옵니다.그래서\\xa0고용정보원의 상급기관인 노동부가 6명의 특혜 채용 여부를 조사했는데요, 여기 보시는 6명이 당시 MB 정부가\\xa0임명했던 고용정보원장과 관계되는 사람들이었고, 문재인 후보 아들은 조사 대상이 아니었습니다.<앵커>조금 내용이 다르긴 하네요.\\xa0근데 문재인 후보 측은 그러면 왜 감사에서 두 번 다 문제없는 게 확인됐다고 주장을 하고 있는 거죠?<기자>감사보고서에 나와 있는 감사 범위\\xa0때문에 그렇습니다.보면 '2006년 3월 기관 설립 이후 업무 전반'이라고 돼 있습니다.문 후보 측에 물어보니까\\xa0문재인 후보 아들이 채용된 시점이\\xa0이\\xa0기간 안에 포함돼 그렇게 해명을 했다고 하더군요.감사 내용이 아니라 기간만 해당된다는 말이죠.이게 몇 년 된 구문이지만, 대선을 코앞에 두고 여기저기서 다시 의혹을 제기하고 있어서 문 후보 측에서 조만간 구체적인 해명이 나올 거로 보입니다. <앵커>네, 오늘 소식 잘 들었습니다. 검증기사 [사실은] 문재인 아들 취업 특혜 논란…감사 내용 보니\",\n",
       " 'date': '2017.03.29',\n",
       " 'score': 3,\n",
       " 'time': '09:51',\n",
       " 'cartegories': {'정치, 19대 대선, 대통령 선거', '정치인(공직자)과 관련된 사실'},\n",
       " 'explain': '현재 지지율 1위 문재인 민주당 경선 후보 아들의 취업특혜 논란과 관련된 가짜 뉴스는 무엇이며 남은 의혹은 무엇인지를 취재.',\n",
       " 'source': {'[사실은] 문재인 아들 취업 특혜 논란…감사 내용 보니': 'http://news.sbs.co.kr/news/endPage.do?news_id=N1004112510&plink=TITLE&cooper=SBSNEWSINFACT'},\n",
       " 'speacker': '문재인',\n",
       " 'title': '현재 지지율 1위 문재인 민주당 경선 후보 아들과 관련한 취업특혜 논란이 있다.'}"
      ]
     },
     "execution_count": 33,
     "metadata": {},
     "output_type": "execute_result"
    }
   ],
   "source": [
    "fc_dicts[1]"
   ]
  },
  {
   "cell_type": "code",
   "execution_count": 18,
   "metadata": {},
   "outputs": [],
   "source": [
    "for i, j in fc_dicts.items():\n",
    "    if j != None:\n",
    "        print(i, j)\n",
    "        break"
   ]
  }
 ],
 "metadata": {
  "interpreter": {
   "hash": "4c5a3190abfe43154456264a5a3d6a0f3c995f5cb5dd8917a79bb99f456692a8"
  },
  "kernelspec": {
   "display_name": "Python 3.10.1 64-bit ('venv': venv)",
   "name": "python3"
  },
  "language_info": {
   "codemirror_mode": {
    "name": "ipython",
    "version": 3
   },
   "file_extension": ".py",
   "mimetype": "text/x-python",
   "name": "python",
   "nbconvert_exporter": "python",
   "pygments_lexer": "ipython3",
   "version": "3.10.1"
  },
  "orig_nbformat": 4
 },
 "nbformat": 4,
 "nbformat_minor": 2
}
