{
 "cells": [
  {
   "cell_type": "code",
   "execution_count": 1,
   "metadata": {},
   "outputs": [],
   "source": [
    "import requests\n",
    "from bs4 import BeautifulSoup as bs\n",
    "import yaml\n",
    "from IPython.display import display\n",
    "from time import sleep\n",
    "import re\n",
    "from tqdm import tqdm\n",
    "import pandas as pd\n",
    "\n",
    "\n"
   ]
  },
  {
   "cell_type": "code",
   "execution_count": 10,
   "metadata": {},
   "outputs": [],
   "source": []
  },
  {
   "cell_type": "code",
   "execution_count": 2,
   "metadata": {},
   "outputs": [],
   "source": [
    "from typing import List, Dict, Any, Set, Tuple, Union, Optional"
   ]
  },
  {
   "cell_type": "code",
   "execution_count": 3,
   "metadata": {},
   "outputs": [],
   "source": [
    "url = \"http://factcheck.snu.ac.kr/v2/facts/%d\""
   ]
  },
  {
   "cell_type": "code",
   "execution_count": 4,
   "metadata": {},
   "outputs": [],
   "source": [
    "class Speaking:\n",
    "    def __init__(self, num: int, predata: Optional[Dict[Any, Any]] = None):\n",
    "        self.num = num\n",
    "        if predata is None:\n",
    "            self.responce = requests.get(url % self.num)\n",
    "            if self.responce.status_code != 200:\n",
    "                raise Exception(f\"{self.responce.status_code} error at page {self.num}.\")\n",
    "            self.soup = bs(self.responce.text, 'html.parser')\\\n",
    "                # bs를 이용하여 구문 분석 후 soup에 저장합니다.\n",
    "            self.detail = self.soup.select_one(\".fcItem_detail_top\") # 상세 페이지를 추출합니다.\n",
    "            self.speacker = self.detail.select_one(\".name\").text.strip() # 발언자를 추출합니다.\n",
    "            self.title = self.detail.select_one(\".fcItem_detail_li_p > p:nth-child(1) > a\").text.strip() # 제목을 추출합니다.\n",
    "            self.source_element = self.detail.select_one(\".source\") # 출처가 담긴 html 요소를 추출합니다.\n",
    "            self.source = {self.source_element.text.strip(): \"\"} \\\n",
    "                if self.source_element.select_one(\"a\") == None\\\n",
    "                else {self.source_element.select_one(\"a\").text.strip(): self.source_element.select_one(\"a\")['href']} # 출처를 추출합니다.\n",
    "            self.cartegories = {li.text for li in self.detail.select(\".fcItem_detail_bottom li\")} # 카테고리를 추출합니다.\n",
    "            self.explain = self.soup.select_one(\".exp\").text.strip() # 설명을 추출합니다.\n",
    "            self.factchecks = self.get_fc(self.soup)\n",
    "        else:\n",
    "            self.speacker = predata['speacker']\n",
    "            self.title = predata['title']\n",
    "            self.source = predata['source']\n",
    "            self.cartegories = predata['cartegories']\n",
    "            self.explain = predata['explain']\n",
    "            self.factchecks = predata['factchecks']\n",
    "    \n",
    "    def as_dict(self): # 데이터를 딕셔너리 형태로 반환합니다.\n",
    "        return {\n",
    "            'speacker': self.speacker,\n",
    "            'title': self.title,\n",
    "            'source': self.source,\n",
    "            'cartegories': self.cartegories,\n",
    "            'explain': self.explain,\n",
    "            'factchecks': self.factchecks\n",
    "        }\n",
    "    \n",
    "    def as_yaml(self): # 데이터를 yaml 형태로 반환합니다.\n",
    "        return yaml.dump(self.as_dict(), allow_unicode=True)\n",
    "\n",
    "    def save_as_yaml(self, path:str):\n",
    "        with open(path, 'w') as f:\n",
    "            f.write(self.as_yaml())\n",
    "\n",
    "    # SNU 팩트체크 사이트는 다음과 같이 팩트 체크 별 아이디와 점수를 보냅니다.\n",
    "    # <ul> <li class=\"fcItem_vf_li\">...</li>\n",
    "    # <script charset=\"utf-8\" type=\"text/javascript\">\n",
    "    # $(function () { showScore(아이디, 점수)}); </script> ... </ul>\n",
    "    # 따라서 아이디와 점수를 추출하는 정규표현식을 사용합니다.\n",
    "\n",
    "    \n",
    "    # 아이디와 점수를 추출하는 함수를 정의합니다.\n",
    "\n",
    "    def get_fc_id_score(self, soup:bs) -> List[Tuple[int, int]]:\n",
    "        id_score: List[Tuple[int,int]] = [] # 아이디와 점수를 저장할 리스트\n",
    "        id_score_re = re.compile(r'(?<=showScore\\()\\d+, \\d+')\n",
    "        for fc_item_script in soup.select(\".fcItem_vf > ul > script\"): # 팩트 체크 아이템의 스크립트를 찾습니다.\n",
    "            id_score_str: str = id_score_re.search(fc_item_script.text).group() # 정규 표현식으로 아이디와 점수값을 담은 문자열을 추출합니다.\n",
    "            id_score_int: Tuple = tuple(map(int, id_score_str.split(', '))) # 문자열을 정수로 변환합니다.\n",
    "            id_score.append(id_score_int)\n",
    "        return id_score\n",
    "\n",
    "\n",
    "\n",
    "    # 작성 시간과 내용을 추출하는 함수를 정의합니다.\n",
    "\n",
    "    def get_fc_time_contents(self, soup:bs) -> List[Tuple[str, str, str]]:\n",
    "        time_contents: List[str] = [] # 시간과 내용을 저장할 리스트\n",
    "        for fc_item in soup.select(\".fcItem_vf > ul > li\"): # 팩트 체크 아이템을 찾습니다.\n",
    "            date = fc_item.select_one(\".reg_date > p i:nth-child(1)\").text # 작성 날짜를 추출합니다.\n",
    "            time = fc_item.select_one(\".reg_date > p i:nth-child(2)\").text # 작성 시간을 추출합니다.\n",
    "            raw_content = fc_item.select_one(\".vf_exp_wrap\").text # 팩트 체크 내용을 추출합니다.\n",
    "            content = re.sub(r'\\s{2,}', \" \", raw_content.strip()) # 공백을 제거합니다.\n",
    "            time_contents.append((date, time, content))\n",
    "        return time_contents\n",
    "\n",
    "    # 위의 함수들의 반환을 합쳐 최종적으로 아이디를 키로 갖고 나머지 내용을 값으로 갖는 딕셔너리를 반환하는 함수를 정의합니다.\n",
    "\n",
    "    def get_fc(self, soup:bs) -> Dict[int, Dict[Any, Any]]:\n",
    "        id_score = self.get_fc_id_score(soup) # 아이디와 점수를 추출합니다.\n",
    "        time_contents = self.get_fc_time_contents(soup) # 작성 시간과 내용을 추출합니다.\n",
    "        zipped = zip(id_score, time_contents) # 두 리스트를 합쳐 쌍을 생성합니다.\n",
    "        return {id: {'score': score, 'date': date, 'time': time, 'content': content} for (id, score), (date, time, content) in zipped}\n"
   ]
  },
  {
   "cell_type": "code",
   "execution_count": null,
   "metadata": {},
   "outputs": [],
   "source": []
  },
  {
   "cell_type": "code",
   "execution_count": null,
   "metadata": {},
   "outputs": [],
   "source": [
    "# 더이상 페이지가 없을 때까지 페이지들을 수집합니다.\n",
    "speakings = []\n",
    "errors = set()\n",
    "for i in tqdm(range(1,5000)):\n",
    "    try:\n",
    "        speakings.append(Speaking(i))\n",
    "    except:\n",
    "        speakings.append(None)\n",
    "        errors.add(i)\n",
    "        if i > 3670:\n",
    "            break\n",
    "    if i % 10 == 0:\n",
    "        sleep(1)"
   ]
  },
  {
   "cell_type": "code",
   "execution_count": 19,
   "metadata": {},
   "outputs": [],
   "source": [
    "speaks_dict = {speaking.num: speaking.as_dict() for speaking in speakings if speaking is not None}\n",
    "yaml.dump(speaks_dict, open('speakings.yaml', 'w', encoding=\"utf-8\"), default_flow_style=False, allow_unicode=True)"
   ]
  },
  {
   "cell_type": "code",
   "execution_count": 6,
   "metadata": {},
   "outputs": [
    {
     "name": "stdout",
     "output_type": "stream",
     "text": [
      "현재 지지율 1위 문재인 민주당 경선 후보 아들과 관련한 취업특혜 논란이 있다.\n",
      "“77%로 미군 주둔비 부담 커…일본은 50%”\n",
      "\"더불어민주당도 국모닝 했다\"\n",
      "\"대통령선거 본선에 나가기 직전에 사표를 제출하면 보궐선거는 없다\"\n",
      "“공공부문 일자리 81만개 만들 수 있다”\n",
      "문재인캠프 영입인사의 과거 이력에 관한 주장은 사실과 다르다.\n",
      "세월호 희생자들이 천안함 희생자들보다 보상을 많이 받았다는 주장과 세월호 관련 법안이 국회서 어떻게 처리되고 있는지 검증\n",
      "Q: 자유한국당 홍준표 경남지사가 위안부 합의에 대해 \"대통령이 되면 합의를 파기할 것\"이라고 했습니다.\n",
      "\"홍준표 지사가 국회 운영위원장 시절, 판공비 일부를 집에서 쓰게 한 것은 문제다.\"\n",
      "\n",
      "\"민주당의 호남권 대선후보 경선 결과 무효표가 무려 10만여 표가 나왔다.\"\n"
     ]
    }
   ],
   "source": [
    "speaks_dict = yaml.load(open('speakings.yaml', 'r', encoding=\"utf-8\"), Loader=yaml.FullLoader)\n",
    "speakings = [Speaking(id, contents) for id, contents in speaks_dict.items()]\n",
    "for id in range(10):\n",
    "    print(speakings[id].as_dict()['title'])"
   ]
  },
  {
   "cell_type": "code",
   "execution_count": 14,
   "metadata": {},
   "outputs": [
    {
     "data": {
      "text/plain": [
       "{'speacker': '문재인',\n",
       " 'title': '현재 지지율 1위 문재인 민주당 경선 후보 아들과 관련한 취업특혜 논란이 있다.',\n",
       " 'source': {'[사실은] 문재인 아들 취업 특혜 논란…감사 내용 보니': 'http://news.sbs.co.kr/news/endPage.do?news_id=N1004112510&plink=TITLE&cooper=SBSNEWSINFACT'},\n",
       " 'cartegories': {'정치, 19대 대선, 대통령 선거', '정치인(공직자)과 관련된 사실'},\n",
       " 'explain': '현재 지지율 1위 문재인 민주당 경선 후보 아들의 취업특혜 논란과 관련된 가짜 뉴스는 무엇이며 남은 의혹은 무엇인지를 취재.',\n",
       " 'factchecks': {1: {'content': \"검증내용 <앵커>대선 국면에 접어들면서 저희 사실은 코너에선 선거 관련 가짜 뉴스와 대선 후보 관련 논란을 집중 검증하고 있습니다. 마침 저희 사실은 홈페이지에 지지율 1위 문재인 민주당 후보의 아들 취업 특혜 논란을 따져봐 달라는 요청이 들어와서, 오늘(25일)은 그 문제를 한번 집중적으로 따져 보겠습니다.박세용 기자, 먼저 논란의 핵심부터 정리해주시죠.<기자>문재인 후보 아들이 노무현 정부 시절인 2007년 1월에 한국고용정보원이라는 공기업에 합격합니다.당시 고용정보원의 원장이 청와대에서 문재인 후보와 같이 근무했던 사람이거든요.그래서 아버지 덕에 취업한 거 아니냐는 의혹이\\xa0나오는 겁니다.<앵커>이런 의혹이 자꾸 나오니까 선관위는 최근 이런 의혹들은 모두 허위라고 하면서 관련 게시물을 단속하고 있잖아요?<기자>선관위가 지금 단속하는 건 악의적인 가짜 뉴스입니다.문 후보 아들 1명만 지원해서 혼자 합격했다, 또 5급 공무원 자리다, 이런 글들이\\xa0돌고 있는데\\xa0사실이 아니라 거짓이라는 겁니다.실제로는 2명 지원해서 2명 합격했고, 공무원이 아니라 공기업 일반직입니다.<앵커>이런 의혹에 대해서 문재인 후보 측은 2007년과 2010년 이미 두 번 다 감사를 받았고, 거기서 문제없는 걸로 나왔다고 해명하고 있는 거죠?<기자>취재를 해보니까 그 부분은 절반만 사실이었습니다.2007년에 고용정보원이 노동부에서 감사를 받은 건 사실입니다.당시 감사 결과를 보시면 문 후보 아들이\\xa0경쟁 없이 채용된 건 사실이지만, 특혜를 받았다는\\xa0확증은 발견되지 않았다는 겁니다.<앵커>2007년은 이랬고, 2010년 감사 내용은 어떤가요?<기자>2010년 이명박 정부 때도 감사를 받았다, 만약에 특혜가 사실이었다면 이명박 정부가 이 사안을 가만히 뒀겠느냐는 얘긴데, 사실 당시 2010년 감사는 성격이\\xa0완전히 다릅니다.당시 감사는 야당이었던 민주당 의원들이 요구한 겁니다.이명박 정부가 임명한 고용정보원장이 채용 특혜에 연루됐다며 감사를 요구한 것이었습니다.이게 국회 속기록에 나옵니다.그래서\\xa0고용정보원의 상급기관인 노동부가 6명의 특혜 채용 여부를 조사했는데요, 여기 보시는 6명이 당시 MB 정부가\\xa0임명했던 고용정보원장과 관계되는 사람들이었고, 문재인 후보 아들은 조사 대상이 아니었습니다.<앵커>조금 내용이 다르긴 하네요.\\xa0근데 문재인 후보 측은 그러면 왜 감사에서 두 번 다 문제없는 게 확인됐다고 주장을 하고 있는 거죠?<기자>감사보고서에 나와 있는 감사 범위\\xa0때문에 그렇습니다.보면 '2006년 3월 기관 설립 이후 업무 전반'이라고 돼 있습니다.문 후보 측에 물어보니까\\xa0문재인 후보 아들이 채용된 시점이\\xa0이\\xa0기간 안에 포함돼 그렇게 해명을 했다고 하더군요.감사 내용이 아니라 기간만 해당된다는 말이죠.이게 몇 년 된 구문이지만, 대선을 코앞에 두고 여기저기서 다시 의혹을 제기하고 있어서 문 후보 측에서 조만간 구체적인 해명이 나올 거로 보입니다. <앵커>네, 오늘 소식 잘 들었습니다. 검증기사 [사실은] 문재인 아들 취업 특혜 논란…감사 내용 보니\",\n",
       "   'date': '2017.03.29',\n",
       "   'score': 3,\n",
       "   'time': '09:51'},\n",
       "  26: {'content': '검증내용 더불어민주당 문재인 후보의 아들의 한국고용정보원 채용 과정에 대한 논란이 계속 제기되고 있습니다.\\xa0민주당과 문 후보 측에서는 \"여러 차례 감사를 통해 이미 끝난 일\"이라고 반박하고 있는데요,\\xa0당시 채용 절차에 대한 2007년과 2012년 국회 환경노동위원회 회의 및 국정감사와 고용노동부의 2007년, 2010년, 2012년 조사 결과를 토대로 논란을 다시 짚어봤습니다.\\xa0채용 절차에 대한 주요 논란의\\xa0핵심은① 내부 채용계획과 외부 공고 내용이 달랐다.\\xa0-> 내부 채용계획에는 \\'PT 및 동영상 전문가\\' 채용 방침이 있지만 워크넷을 통해 공개된 외부 공고에는 이 내용이 빠졌다. 그런데 문 후보의 아들은 경력서술란(자기소개서)에 수상 경력만 단 세 줄을 적었다.\\xa0② 고용정보원의 2006년 다른 채용 절차와 12월 채용 절차에 차이가 있다.\\xa0-> 이전에는 워크넷, 홈페이지, 일간지 등 2~5개 매체에 채용공고를 했는데 2006년 11월 30일 채용공고는 워크넷만 사용했다. 16~42일간의 공고기간은 6일로 단축됐다.\\xa0③ 일반직 외부 응시자는 2명이 지원해 2명이 최종 합격했다. 이 가운데 1명이 문 후보의 아들이고 문씨는 유일한 동영상 전공자였다. 노동부는 2007년 5월 조사에서 고용정보원의 당시 채용 절차에 대체로 문제가 있었다고 지적합니다.\\xa0그러나 문씨 한 사람만을 특별하게 채용하기 위해 조작되 의도는 아니고, 행정상 미숙, 객관성 결여 등으로 \\'불특정 다수\\'에 특혜 의혹을 불러올 만한 소지가 있을 수 있었다는 게 결론입니다.\\xa0-->> \"특혜 채용을 예정하거나 의도하지는 않았지만 채용공고 제목과 안내 내용 등을 구성함에 있어 객관성·공정성을 결한 채 행정미숙과 안일한 판단을 하므로써 특혜채용 의혹을 갖도록 한 것으로 보인다\" 더 자세한 내용은 검증 기사에 담았습니다.\\xa0☞ http://www.seoul.co.kr/news/newsView.php?id=20170407004003 검증기사 [팩트 체크] 문재인 아들 고용정보원 채용 의혹',\n",
       "   'date': '2017.04.06',\n",
       "   'score': 3,\n",
       "   'time': '21:36'},\n",
       "  27: {'content': '검증내용 더불어민주당 경선에서 후보 확정을 굳히고 있는 문재인 전 대표가 대선 본선전에서 거쳐야 하는 최대 검증 사안이 아들 준용(35)씨의 특혜 채용 의혹이라는 의견이 많다. 문씨가 한국고용정보원에 채용된 2007년에 이미 국회에서 문제가 제기돼 노동부 감사를 받았고, 2012년 대선에서도 논란이 제기됐다.해묵은 사안이 다시 불거진 것은 채용 과정에 특혜 의혹의 요소가 적지 않은데다 해명마저 그다지 명쾌하지 않기 때문이다. 하지만 특혜 의혹을 뒷받침하는 명확한 증거는 없고, 관련 자료도 폐기된 상태다. 한국고용정보원은 “개인정보보호법, 채용절차의 공정화에 관한 법률 등에 의해 자료 보존기간이 경과해 관련 자료가 파기됐다”며 사실 확인이 어렵다는 입장이다. 결과적으로 사실 규명이 어려운 채 정치적 공방으로만 흐를 소지가 다분한 셈이다.①채용 절차 문제 있었다? “사실” 문씨 채용이 문제가 된 것은 무엇보다 당시 한국고용정보원의 채용 절차가 내부 규정을 어기면서 제한적으로 이뤄졌기 때문이다. 2006년 당시 고용정보원은 보통 2~5개 정도의 취업정보사이트에 16~42일간 채용 공고를 냈지만, 문씨가 취업한 2006년 11월 30일 채용공고는 워크넷에 6일 동안만 공고했다. 시험시행일 15일 전에 공고해야 한다는 내부 규정을 위반하고 딱 원서접수(12월 1일~6일)에 맞춰서 공지한 것이다. 그야말로 ‘속전속결의 벼락치기 공고’였던 셈이다. 노동부조차 절차적 하자에 대해 “합리성을 갖추지 못하는 등 채용과정에 문제제기의 소지가 있다”는 지적을 하고 ‘기관 주의’ 조치를 내린 바 있다. 권재철 당시 고용정보원장도 언론 인터뷰에서 “행정상의 미묘한 실수 있었다”고 인정했다. ②변칙 공고가 특혜 채용을 위한 것? “내부 채용용 공고로 문씨와 직접 관련 없음” 다만 변칙 공고가 문씨의 특혜 채용을 위한 것이 아니었다는 점은 해명된 부분이다. 2006년 3월 출범한 고용정보원이 내부 비정규직 직원들의 계약기간이 끝나자 이들을 정규직으로 전환하기 위해 제한적인 방식으로 채용공고를 냈다는 것이다. 실제 당시 응시자 51명(연구직 12명ㆍ일반직 39명) 중 43명이 내부 계약직 직원이었고, 14명(연구직 5명ㆍ일반직 9명)의 최종 합격자 중에 12명이 내부 직원이었다. 연구직은 모두 내부 직원이 채용됐고, 일반직에서 문씨를 포함해 외부 응시자 2명이 합격했다. 감사 보고서도 “특정인을 취업시키기 위해 의도적으로 채용공고 및 내용 등을 조작하였다는 확증은 발견되지 않았다”고 적었다. 한국고용정보원이 2006년 당시 워크넷에 올린 12월 하반기 공채 모집 요강\\xa0③내부인을 통해 채용 정보를 들었다? “규명 어려움” 하지만 고용정보원이 내부 직원들을 뽑기 위해 낸 ‘벼락치기 공고’에 문씨가 어떻게 응시할 수 있었느냐는 점은 명쾌하지 않은 대목이다. 당시 채용공고 제목은 ‘연구직 초빙 공고’ 였으며 동영상을 전공한 문씨의 지원과 관련된 항목은 ‘일반직 5급 약간명(전산기술 분야 경력자 우대)이’란 한 줄뿐이었다. 고용정보원은 내부적으로 동영상 제작 관련 직원을 찾고 있었으나, 이와 관련한 안내가 없었음에도 문씨가 짧은 공고 기간을 놓치지 않고 지원한 것이다. 이에 대해 문재인 캠프 측은 “영상관련 직장을 찾고 있었으며 워크넷을 통해 고용정보원의 동영상 활용 수요가 많다는 사실을 파악하고 지원한 것”이라고 해명했다. ④1년 근무하고 3년치 퇴직금을 수령한 것은 특혜다? “거짓”\\xa0문씨는 2007년 2월 고용정보원에 입사해 37개월을 다닌 후 2010년 1월 퇴사했다. 이 가운데 2008년 3월초부터 2010년 1월 말까지 약 23개월 동안은 어학연수를 위해 휴직했다. 문씨가 14개월 일하고 37개월 분의 퇴직금을 수령한 것은 사실이다. 하지만 이는 절차상 문제가 없다. 고용정보원 인사규정 중 ‘휴직기간의 퇴직금 처리규정’에 따르면 ‘근속기간은 임용된 날부터 퇴직한 날까지로 계산한다’고 명시돼 있다. ⑤2007년과 2011년 두 번의 감사로 특혜 의혹이 해소됐다? “부분적 사실”\\xa0문씨의 의혹과 관련해 문재인 캠프 측은 이미 2번의 감사를 진행했고 이명박 정부 아래서도 문제가 없었다고 해명했다. 하지만 이는 절반만 사실이다. 2007년 노동부 감사는 문씨 의혹에 대해 “특혜를 받았다는 확증은 발견되지 않았다”고 결론 내렸으나, 2011년 감사는 당시 야당인 민주당 의원들이 이명박 정부가 임명한 고용정보원장의 채용 특혜를 문제 삼아 요구해 진행된 것으로 감사보고서에 문씨의 이름도 포함되지 않았다. 김정현 기자 virtu@hankookilbo.com 검증기사 [팩트파인더] 문재인 전 대표 아들 특혜채용 의혹의 진실은 근거자료 1 : [팩트파인더] 문재인 전 대표 아들 특혜채용 의혹의 진실은',\n",
       "   'date': '2017.04.07',\n",
       "   'score': 3,\n",
       "   'time': '09:15'}}}"
      ]
     },
     "execution_count": 14,
     "metadata": {},
     "output_type": "execute_result"
    }
   ],
   "source": [
    "import classes\n",
    "classes.load_speakings()[0].as_dict()"
   ]
  }
 ],
 "metadata": {
  "interpreter": {
   "hash": "7a127ac1db42dd69d628ec85a2504d2a3c6ba9aca33e8357ea7fa823d68b53f0"
  },
  "kernelspec": {
   "display_name": "Python 3.9.6 64-bit ('venv': venv)",
   "language": "python",
   "name": "python3"
  },
  "language_info": {
   "codemirror_mode": {
    "name": "ipython",
    "version": 3
   },
   "file_extension": ".py",
   "mimetype": "text/x-python",
   "name": "python",
   "nbconvert_exporter": "python",
   "pygments_lexer": "ipython3",
   "version": "3.10.1"
  },
  "orig_nbformat": 4
 },
 "nbformat": 4,
 "nbformat_minor": 2
}
