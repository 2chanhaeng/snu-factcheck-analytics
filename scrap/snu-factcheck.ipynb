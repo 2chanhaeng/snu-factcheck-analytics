{
 "cells": [
  {
   "cell_type": "code",
   "execution_count": 1,
   "metadata": {},
   "outputs": [],
   "source": [
    "import requests\n",
    "from bs4 import BeautifulSoup as bs\n",
    "import yaml\n",
    "from IPython.display import display\n",
    "from time import sleep\n",
    "import re\n",
    "from tqdm import tqdm\n",
    "import pandas as pd\n",
    "\n",
    "from typing import List, Dict, Any, Set, Tuple, Union, Optional\n"
   ]
  },
  {
   "cell_type": "code",
   "execution_count": 1,
   "metadata": {},
   "outputs": [
    {
     "name": "stdout",
     "output_type": "stream",
     "text": [
      "c:\\Users\\이찬행\\OneDrive - 충남대학교\\문서\\GitHub\\snu-factcheck-analytics\n"
     ]
    },
    {
     "data": {
      "text/plain": [
       "3292"
      ]
     },
     "execution_count": 1,
     "metadata": {},
     "output_type": "execute_result"
    }
   ],
   "source": [
    "import os\n",
    "os.chdir(\"..\")\n",
    "print(os.getcwd())\n",
    "\n",
    "import classes\n",
    "len(classes.speakings)\n"
   ]
  }
 ],
 "metadata": {
  "interpreter": {
   "hash": "4c5a3190abfe43154456264a5a3d6a0f3c995f5cb5dd8917a79bb99f456692a8"
  },
  "kernelspec": {
   "display_name": "Python 3.10.1 64-bit ('venv': venv)",
   "name": "python3"
  },
  "language_info": {
   "codemirror_mode": {
    "name": "ipython",
    "version": 3
   },
   "file_extension": ".py",
   "mimetype": "text/x-python",
   "name": "python",
   "nbconvert_exporter": "python",
   "pygments_lexer": "ipython3",
   "version": "3.10.1"
  },
  "orig_nbformat": 4
 },
 "nbformat": 4,
 "nbformat_minor": 2
}
