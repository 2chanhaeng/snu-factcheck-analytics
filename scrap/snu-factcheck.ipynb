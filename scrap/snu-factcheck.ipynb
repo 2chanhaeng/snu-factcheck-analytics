{
 "cells": [
  {
   "cell_type": "code",
   "execution_count": 13,
   "metadata": {},
   "outputs": [],
   "source": [
    "import requests\n",
    "from bs4 import BeautifulSoup as bs\n",
    "import yaml\n",
    "from IPython.display import display\n",
    "from time import sleep\n",
    "import re\n",
    "from tqdm import tqdm\n",
    "\n",
    "\n"
   ]
  },
  {
   "cell_type": "code",
   "execution_count": 3,
   "metadata": {},
   "outputs": [],
   "source": [
    "from typing import List, Dict, Any, Set, Tuple, Union, Optional"
   ]
  },
  {
   "cell_type": "code",
   "execution_count": 4,
   "metadata": {},
   "outputs": [],
   "source": [
    "url = \"http://factcheck.snu.ac.kr/v2/facts/%d\""
   ]
  },
  {
   "cell_type": "code",
   "execution_count": 22,
   "metadata": {},
   "outputs": [],
   "source": [
    "class Speaking:\n",
    "    def __init__(self, num: int, predata: Optional[Dict[Any, Any]] = None):\n",
    "        self.num = num\n",
    "        if predata is None:\n",
    "            self.responce = requests.get(url % self.num)\n",
    "            if self.responce.status_code != 200:\n",
    "                raise Exception(f\"{self.responce.status_code} error at page {self.num}.\")\n",
    "            self.soup = bs(self.responce.text, 'html.parser')\\\n",
    "                # bs를 이용하여 구문 분석 후 soup에 저장합니다.\n",
    "            self.detail = self.soup.select_one(\".fcItem_detail_top\") # 상세 페이지를 추출합니다.\n",
    "            self.speacker = self.detail.select_one(\".name\").text # 발언자를 추출합니다.\n",
    "            self.title = self.detail.select_one(\".fcItem_detail_li_p > p:nth-child(1) > a\").text # 제목을 추출합니다.\n",
    "            self.source_element = self.detail.select_one(\".source\") # 출처가 담긴 html 요소를 추출합니다.\n",
    "            self.source = {self.source_element.text.strip(): \"\"} \\\n",
    "                if self.source_element.select_one(\"a\") == None\\\n",
    "                else {self.source_element.select_one(\"a\").text.strip(): self.source_element.select_one(\"a\")['href']} # 출처를 추출합니다.\n",
    "            self.cartegories = {li.text for li in self.detail.select(\".fcItem_detail_bottom li\")} # 카테고리를 추출합니다.\n",
    "            self.explain = self.soup.select_one(\".exp\").text.strip() # 설명을 추출합니다.\n",
    "            self.factchecks = self.get_fc(self.soup)\n",
    "        else:\n",
    "            self.speacker = predata['speacker']\n",
    "            self.title = predata['title']\n",
    "            self.source = predata['source']\n",
    "            self.cartegories = predata['cartegories']\n",
    "            self.explain = predata['explain']\n",
    "            self.factchecks = predata['factchecks']\n",
    "    \n",
    "    def as_dict(self): # 데이터를 딕셔너리 형태로 반환합니다.\n",
    "        return {\n",
    "            'speacker': self.speacker,\n",
    "            'title': self.title,\n",
    "            'source': self.source,\n",
    "            'cartegories': self.cartegories,\n",
    "            'explain': self.explain,\n",
    "            'factchecks': self.factchecks\n",
    "        }\n",
    "    \n",
    "    def as_yaml(self): # 데이터를 yaml 형태로 반환합니다.\n",
    "        return yaml.dump(self.as_dict(), allow_unicode=True)\n",
    "\n",
    "    def save_as_yaml(self, path:str):\n",
    "        with open(path, 'w') as f:\n",
    "            f.write(self.as_yaml())\n",
    "\n",
    "    # SNU 팩트체크 사이트는 다음과 같이 팩트 체크 별 아이디와 점수를 보냅니다.\n",
    "    # <ul> <li class=\"fcItem_vf_li\">...</li>\n",
    "    # <script charset=\"utf-8\" type=\"text/javascript\">\n",
    "    # $(function () { showScore(아이디, 점수)}); </script> ... </ul>\n",
    "    # 따라서 아이디와 점수를 추출하는 정규표현식을 사용합니다.\n",
    "\n",
    "    \n",
    "    # 아이디와 점수를 추출하는 함수를 정의합니다.\n",
    "\n",
    "    def get_fc_id_score(self, soup:bs) -> List[Tuple[int, int]]:\n",
    "        id_score: List[Tuple[int,int]] = [] # 아이디와 점수를 저장할 리스트\n",
    "        id_score_re = re.compile(r'(?<=showScore\\()\\d+, \\d+')\n",
    "        for fc_item_script in soup.select(\".fcItem_vf > ul > script\"): # 팩트 체크 아이템의 스크립트를 찾습니다.\n",
    "            id_score_str: str = id_score_re.search(fc_item_script.text).group() # 정규 표현식으로 아이디와 점수값을 담은 문자열을 추출합니다.\n",
    "            id_score_int: Tuple = tuple(map(int, id_score_str.split(', '))) # 문자열을 정수로 변환합니다.\n",
    "            id_score.append(id_score_int)\n",
    "        return id_score\n",
    "\n",
    "\n",
    "\n",
    "    # 작성 시간과 내용을 추출하는 함수를 정의합니다.\n",
    "\n",
    "    def get_fc_time_contents(self, soup:bs) -> List[Tuple[str, str, str]]:\n",
    "        time_contents: List[str] = [] # 시간과 내용을 저장할 리스트\n",
    "        for fc_item in soup.select(\".fcItem_vf > ul > li\"): # 팩트 체크 아이템을 찾습니다.\n",
    "            date = fc_item.select_one(\".reg_date > p i:nth-child(1)\").text # 작성 날짜를 추출합니다.\n",
    "            time = fc_item.select_one(\".reg_date > p i:nth-child(2)\").text # 작성 시간을 추출합니다.\n",
    "            raw_content = fc_item.select_one(\".vf_exp_wrap\").text # 팩트 체크 내용을 추출합니다.\n",
    "            content = re.sub(r'\\s{2,}', \" \", raw_content.strip()) # 공백을 제거합니다.\n",
    "            time_contents.append((date, time, content))\n",
    "        return time_contents\n",
    "\n",
    "    # 위의 함수들의 반환을 합쳐 최종적으로 아이디를 키로 갖고 나머지 내용을 값으로 갖는 딕셔너리를 반환하는 함수를 정의합니다.\n",
    "\n",
    "    def get_fc(self, soup:bs) -> Dict[int, Dict[Any, Any]]:\n",
    "        id_score = self.get_fc_id_score(soup) # 아이디와 점수를 추출합니다.\n",
    "        time_contents = self.get_fc_time_contents(soup) # 작성 시간과 내용을 추출합니다.\n",
    "        zipped = zip(id_score, time_contents) # 두 리스트를 합쳐 쌍을 생성합니다.\n",
    "        return {id: {'score': score, 'date': date, 'time': time, 'content': content} for (id, score), (date, time, content) in zipped}\n"
   ]
  },
  {
   "cell_type": "code",
   "execution_count": null,
   "metadata": {},
   "outputs": [],
   "source": [
    "# 더이상 페이지가 없을 때까지 페이지들을 수집합니다.\n",
    "speakings = []\n",
    "errors = set()\n",
    "for i in tqdm(range(1,5000)):\n",
    "    try:\n",
    "        speakings.append(Speaking(i))\n",
    "    except:\n",
    "        speakings.append(None)\n",
    "        errors.add(i)\n",
    "        if i > 3670:\n",
    "            break\n",
    "    if i % 10 == 0:\n",
    "        sleep(1)"
   ]
  },
  {
   "cell_type": "code",
   "execution_count": 19,
   "metadata": {},
   "outputs": [],
   "source": [
    "speaks_dict = {speaking.num: speaking.as_dict() for speaking in speakings if speaking is not None}\n",
    "yaml.dump(speaks_dict, open('speakings.yaml', 'w', encoding=\"utf-8\"), default_flow_style=False, allow_unicode=True)"
   ]
  },
  {
   "cell_type": "code",
   "execution_count": null,
   "metadata": {},
   "outputs": [],
   "source": [
    "speaks_dict = yaml.load(open('speakings.yaml', 'r', encoding=\"utf-8\"), Loader=yaml.FullLoader)\n",
    "Speaking(3668, speaks_dict[3668]).as_dict()"
   ]
  }
 ],
 "metadata": {
  "interpreter": {
   "hash": "7a127ac1db42dd69d628ec85a2504d2a3c6ba9aca33e8357ea7fa823d68b53f0"
  },
  "kernelspec": {
   "display_name": "Python 3.9.6 64-bit ('venv': venv)",
   "language": "python",
   "name": "python3"
  },
  "language_info": {
   "codemirror_mode": {
    "name": "ipython",
    "version": 3
   },
   "file_extension": ".py",
   "mimetype": "text/x-python",
   "name": "python",
   "nbconvert_exporter": "python",
   "pygments_lexer": "ipython3",
   "version": "3.10.1"
  },
  "orig_nbformat": 4
 },
 "nbformat": 4,
 "nbformat_minor": 2
}
