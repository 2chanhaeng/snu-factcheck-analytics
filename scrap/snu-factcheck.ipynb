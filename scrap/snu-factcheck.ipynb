{
 "cells": [
  {
   "cell_type": "code",
   "execution_count": 1,
   "metadata": {},
   "outputs": [],
   "source": [
    "import requests\n",
    "from bs4 import BeautifulSoup as bs\n",
    "import yaml\n",
    "from IPython.display import display\n",
    "from time import sleep\n",
    "import re\n",
    "from tqdm import tqdm\n",
    "import pandas as pd\n",
    "\n",
    "\n"
   ]
  },
  {
   "cell_type": "code",
   "execution_count": 10,
   "metadata": {},
   "outputs": [],
   "source": []
  },
  {
   "cell_type": "code",
   "execution_count": 2,
   "metadata": {},
   "outputs": [],
   "source": [
    "from typing import List, Dict, Any, Set, Tuple, Union, Optional"
   ]
  },
  {
   "cell_type": "code",
   "execution_count": 3,
   "metadata": {},
   "outputs": [],
   "source": [
    "url = \"http://factcheck.snu.ac.kr/v2/facts/%d\""
   ]
  },
  {
   "cell_type": "code",
   "execution_count": 4,
   "metadata": {},
   "outputs": [],
   "source": [
    "class Speaking:\n",
    "    def __init__(self, num: int, predata: Optional[Dict[Any, Any]] = None):\n",
    "        self.num = num\n",
    "        if predata is None:\n",
    "            self.responce = requests.get(url % self.num)\n",
    "            if self.responce.status_code != 200:\n",
    "                raise Exception(f\"{self.responce.status_code} error at page {self.num}.\")\n",
    "            self.soup = bs(self.responce.text, 'html.parser')\\\n",
    "                # bs를 이용하여 구문 분석 후 soup에 저장합니다.\n",
    "            self.detail = self.soup.select_one(\".fcItem_detail_top\") # 상세 페이지를 추출합니다.\n",
    "            self.speacker = self.detail.select_one(\".name\").text.strip() # 발언자를 추출합니다.\n",
    "            self.title = self.detail.select_one(\".fcItem_detail_li_p > p:nth-child(1) > a\").text.strip() # 제목을 추출합니다.\n",
    "            self.source_element = self.detail.select_one(\".source\") # 출처가 담긴 html 요소를 추출합니다.\n",
    "            self.source = {self.source_element.text.strip(): \"\"} \\\n",
    "                if self.source_element.select_one(\"a\") == None\\\n",
    "                else {self.source_element.select_one(\"a\").text.strip(): self.source_element.select_one(\"a\")['href']} # 출처를 추출합니다.\n",
    "            self.cartegories = {li.text for li in self.detail.select(\".fcItem_detail_bottom li\")} # 카테고리를 추출합니다.\n",
    "            self.explain = self.soup.select_one(\".exp\").text.strip() # 설명을 추출합니다.\n",
    "            self.factchecks = self.get_fc(self.soup)\n",
    "        else:\n",
    "            self.speacker = predata['speacker']\n",
    "            self.title = predata['title']\n",
    "            self.source = predata['source']\n",
    "            self.cartegories = predata['cartegories']\n",
    "            self.explain = predata['explain']\n",
    "            self.factchecks = predata['factchecks']\n",
    "    \n",
    "    def as_dict(self): # 데이터를 딕셔너리 형태로 반환합니다.\n",
    "        return {\n",
    "            'speacker': self.speacker,\n",
    "            'title': self.title,\n",
    "            'source': self.source,\n",
    "            'cartegories': self.cartegories,\n",
    "            'explain': self.explain,\n",
    "            'factchecks': self.factchecks\n",
    "        }\n",
    "    \n",
    "    def as_yaml(self): # 데이터를 yaml 형태로 반환합니다.\n",
    "        return yaml.dump(self.as_dict(), allow_unicode=True)\n",
    "\n",
    "    def save_as_yaml(self, path:str):\n",
    "        with open(path, 'w') as f:\n",
    "            f.write(self.as_yaml())\n",
    "\n",
    "    # SNU 팩트체크 사이트는 다음과 같이 팩트 체크 별 아이디와 점수를 보냅니다.\n",
    "    # <ul> <li class=\"fcItem_vf_li\">...</li>\n",
    "    # <script charset=\"utf-8\" type=\"text/javascript\">\n",
    "    # $(function () { showScore(아이디, 점수)}); </script> ... </ul>\n",
    "    # 따라서 아이디와 점수를 추출하는 정규표현식을 사용합니다.\n",
    "\n",
    "    \n",
    "    # 아이디와 점수를 추출하는 함수를 정의합니다.\n",
    "\n",
    "    def get_fc_id_score(self, soup:bs) -> List[Tuple[int, int]]:\n",
    "        id_score: List[Tuple[int,int]] = [] # 아이디와 점수를 저장할 리스트\n",
    "        id_score_re = re.compile(r'(?<=showScore\\()\\d+, \\d+')\n",
    "        for fc_item_script in soup.select(\".fcItem_vf > ul > script\"): # 팩트 체크 아이템의 스크립트를 찾습니다.\n",
    "            id_score_str: str = id_score_re.search(fc_item_script.text).group() # 정규 표현식으로 아이디와 점수값을 담은 문자열을 추출합니다.\n",
    "            id_score_int: Tuple = tuple(map(int, id_score_str.split(', '))) # 문자열을 정수로 변환합니다.\n",
    "            id_score.append(id_score_int)\n",
    "        return id_score\n",
    "\n",
    "\n",
    "\n",
    "    # 작성 시간과 내용을 추출하는 함수를 정의합니다.\n",
    "\n",
    "    def get_fc_time_contents(self, soup:bs) -> List[Tuple[str, str, str]]:\n",
    "        time_contents: List[str] = [] # 시간과 내용을 저장할 리스트\n",
    "        for fc_item in soup.select(\".fcItem_vf > ul > li\"): # 팩트 체크 아이템을 찾습니다.\n",
    "            date = fc_item.select_one(\".reg_date > p i:nth-child(1)\").text # 작성 날짜를 추출합니다.\n",
    "            time = fc_item.select_one(\".reg_date > p i:nth-child(2)\").text # 작성 시간을 추출합니다.\n",
    "            raw_content = fc_item.select_one(\".vf_exp_wrap\").text # 팩트 체크 내용을 추출합니다.\n",
    "            content = re.sub(r'\\s{2,}', \" \", raw_content.strip()) # 공백을 제거합니다.\n",
    "            time_contents.append((date, time, content))\n",
    "        return time_contents\n",
    "\n",
    "    # 위의 함수들의 반환을 합쳐 최종적으로 아이디를 키로 갖고 나머지 내용을 값으로 갖는 딕셔너리를 반환하는 함수를 정의합니다.\n",
    "\n",
    "    def get_fc(self, soup:bs) -> Dict[int, Dict[Any, Any]]:\n",
    "        id_score = self.get_fc_id_score(soup) # 아이디와 점수를 추출합니다.\n",
    "        time_contents = self.get_fc_time_contents(soup) # 작성 시간과 내용을 추출합니다.\n",
    "        zipped = zip(id_score, time_contents) # 두 리스트를 합쳐 쌍을 생성합니다.\n",
    "        return {id: {'score': score, 'date': date, 'time': time, 'content': content} for (id, score), (date, time, content) in zipped}\n"
   ]
  },
  {
   "cell_type": "code",
   "execution_count": null,
   "metadata": {},
   "outputs": [],
   "source": []
  },
  {
   "cell_type": "code",
   "execution_count": null,
   "metadata": {},
   "outputs": [],
   "source": [
    "# 더이상 페이지가 없을 때까지 페이지들을 수집합니다.\n",
    "speakings = []\n",
    "errors = set()\n",
    "for i in tqdm(range(1,5000)):\n",
    "    try:\n",
    "        speakings.append(Speaking(i))\n",
    "    except:\n",
    "        speakings.append(None)\n",
    "        errors.add(i)\n",
    "        if i > 3670:\n",
    "            break\n",
    "    if i % 10 == 0:\n",
    "        sleep(1)"
   ]
  },
  {
   "cell_type": "code",
   "execution_count": 19,
   "metadata": {},
   "outputs": [],
   "source": [
    "speaks_dict = {speaking.num: speaking.as_dict() for speaking in speakings if speaking is not None}\n",
    "yaml.dump(speaks_dict, open('speakings.yaml', 'w', encoding=\"utf-8\"), default_flow_style=False, allow_unicode=True)"
   ]
  },
  {
   "cell_type": "code",
   "execution_count": 6,
   "metadata": {},
   "outputs": [
    {
     "name": "stdout",
     "output_type": "stream",
     "text": [
      "현재 지지율 1위 문재인 민주당 경선 후보 아들과 관련한 취업특혜 논란이 있다.\n",
      "“77%로 미군 주둔비 부담 커…일본은 50%”\n",
      "\"더불어민주당도 국모닝 했다\"\n",
      "\"대통령선거 본선에 나가기 직전에 사표를 제출하면 보궐선거는 없다\"\n",
      "“공공부문 일자리 81만개 만들 수 있다”\n",
      "문재인캠프 영입인사의 과거 이력에 관한 주장은 사실과 다르다.\n",
      "세월호 희생자들이 천안함 희생자들보다 보상을 많이 받았다는 주장과 세월호 관련 법안이 국회서 어떻게 처리되고 있는지 검증\n",
      "Q: 자유한국당 홍준표 경남지사가 위안부 합의에 대해 \"대통령이 되면 합의를 파기할 것\"이라고 했습니다.\n",
      "\"홍준표 지사가 국회 운영위원장 시절, 판공비 일부를 집에서 쓰게 한 것은 문제다.\"\n",
      "\n",
      "\"민주당의 호남권 대선후보 경선 결과 무효표가 무려 10만여 표가 나왔다.\"\n"
     ]
    }
   ],
   "source": [
    "speaks_dict = yaml.load(open('speakings.yaml', 'r', encoding=\"utf-8\"), Loader=yaml.FullLoader)\n",
    "speakings = [Speaking(id, contents) for id, contents in speaks_dict.items()]\n",
    "for id in range(10):\n",
    "    print(speakings[id].as_dict()['title'])"
   ]
  },
  {
   "cell_type": "code",
   "execution_count": 9,
   "metadata": {},
   "outputs": [
    {
     "data": {
      "text/plain": [
       "{'speacker': '김진태',\n",
       " 'title': '\"홍준표 지사가 국회 운영위원장 시절, 판공비 일부를 집에서 쓰게 한 것은 문제다.\"\\r\\n',\n",
       " 'source': {'洪 \"태극기팔아 대선나왔나\", 金 \"판공비를 집에 가져가나\" | 연합뉴스': 'http://www.yonhapnews.co.kr/bulletin/2017/03/28/0200000000AKR20170328186100001.HTML?from=search'},\n",
       " 'cartegories': {'정치, 19대 대선, 대통령 선거', '정치인(공직자)의 발언'},\n",
       " 'explain': '3월28일 자유한국당 대선후보 TV 토론회에서 김진태 의원이 홍준표 경남 지사를 겨냥한 이 발언, 맞는 말일까?',\n",
       " 'factchecks': {11: {'content': '검증내용 김 의원은 홍 지사가 여당 원내대표(국회운영위원장 겸직) 시절 집에 준 돈이 ‘판공비 일부’라고 하고, 홍 지사는 집에 준 돈은 ‘판공비’가 아니라, ‘개인 돈’ ‘월급 받은 것’이라고 맞선다.이 돈의 성격을 둘러싼 논란은 홍준표 지사가\\xa02015년 5월11일과 12일, 세 차례 페이스북에 해명의 글에서 비롯했다.“2008년 여당 원내대표(국회운영위원장 겸직) 시절 매달 국회대책비로 4000만~5000만원씩 나와 이중 남은 돈을 집사람에게 생활비로 줬는데 이를 모았다” “이 국회대책비 중에는 운영위원장으로서의\\xa0직책수당\\xa0성격의 돈도 있다” “이 직책수당은\\xa0급여 성격으로, 개인에게 지급되는 돈”….하지만, 당시 국회 관계자는 “여당 원내대표에게 주는 돈 중에서 ‘국회대책비’ ‘위원장 직책수당’이란 항목은 없다”며 “그의 발언은 ‘특수활동비’를 지칭한 것 같다”고 했다.특수활동비는 기밀이 요구되는 정보 및 수사, 이에 준하는 국정 수행에 지출되는 경비로, 영수증을 따로 제출하지 않아도 된다.그러나 기획재정부 지침에 따르면, 특수활동비는 국정수행 경비로만 써야 한다. 특수활동비를 사적으로 쓰면 업무상 횡령으로 처벌받을 수도 있다.당시 언론에선 또 \"많은 원내대표들이 개인 편차는 있지만, 특수활동비 부족을 호소했는데, 활동비를 남기기가 쉽지 않았을 것\" \"비밀 업무를 수행하지 않는 국회에서 영수증도 붙지 않는 깜깜이 예산이 왜 필요하느냐\"는 지적도 많았다. 검증기사 김진태 “홍준표 지사가 국회 운영위원장 판공비, 집에서 쓰게 한 것은 문제”',\n",
       "   'date': '2017.03.29',\n",
       "   'score': 4,\n",
       "   'time': '17:45'}}}"
      ]
     },
     "execution_count": 9,
     "metadata": {},
     "output_type": "execute_result"
    }
   ],
   "source": [
    "speakings[8].as_dict()"
   ]
  }
 ],
 "metadata": {
  "interpreter": {
   "hash": "7a127ac1db42dd69d628ec85a2504d2a3c6ba9aca33e8357ea7fa823d68b53f0"
  },
  "kernelspec": {
   "display_name": "Python 3.9.6 64-bit ('venv': venv)",
   "language": "python",
   "name": "python3"
  },
  "language_info": {
   "codemirror_mode": {
    "name": "ipython",
    "version": 3
   },
   "file_extension": ".py",
   "mimetype": "text/x-python",
   "name": "python",
   "nbconvert_exporter": "python",
   "pygments_lexer": "ipython3",
   "version": "3.10.1"
  },
  "orig_nbformat": 4
 },
 "nbformat": 4,
 "nbformat_minor": 2
}
